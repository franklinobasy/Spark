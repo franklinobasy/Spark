{
 "cells": [
  {
   "cell_type": "code",
   "execution_count": 1,
   "id": "b0321b8f-7df2-4b34-a177-180ab4a4c2ec",
   "metadata": {},
   "outputs": [],
   "source": [
    "from pyspark.sql import SparkSession\n",
    "from pyspark.sql.functions import sum as Fsum, udf, desc, asc\n",
    "from pyspark.sql.types import StringType, IntegerType\n",
    "\n",
    "import datetime\n",
    "\n",
    "import numpy as np\n",
    "import pandas as pd\n",
    "%matplotlib inline\n",
    "import matplotlib.pyplot as plt"
   ]
  },
  {
   "cell_type": "code",
   "execution_count": 2,
   "id": "39807ea5-132a-41f4-87c4-598a12632827",
   "metadata": {},
   "outputs": [
    {
     "name": "stdout",
     "output_type": "stream",
     "text": [
      "23/01/16 10:50:46 WARN Utils: Your hostname, franklinobasy resolves to a loopback address: 127.0.1.1; using 172.24.108.31 instead (on interface eth0)\n",
      "23/01/16 10:50:46 WARN Utils: Set SPARK_LOCAL_IP if you need to bind to another address\n"
     ]
    },
    {
     "name": "stderr",
     "output_type": "stream",
     "text": [
      "Setting default log level to \"WARN\".\n",
      "To adjust logging level use sc.setLogLevel(newLevel). For SparkR, use setLogLevel(newLevel).\n"
     ]
    },
    {
     "name": "stdout",
     "output_type": "stream",
     "text": [
      "23/01/16 10:50:52 WARN NativeCodeLoader: Unable to load native-hadoop library for your platform... using builtin-java classes where applicable\n",
      "23/01/16 10:50:59 WARN Utils: Service 'SparkUI' could not bind on port 4040. Attempting port 4041.\n"
     ]
    }
   ],
   "source": [
    "session = SparkSession.builder.appName(\"Assignment\").getOrCreate()"
   ]
  },
  {
   "cell_type": "code",
   "execution_count": 3,
   "id": "95a39648-e7ca-4602-86ea-1a5313b56fab",
   "metadata": {},
   "outputs": [
    {
     "name": "stderr",
     "output_type": "stream",
     "text": [
      "                                                                                \r"
     ]
    }
   ],
   "source": [
    "path = \"data/sparkify_log_small.json\"\n",
    "user_log = session.read.json(path)"
   ]
  },
  {
   "cell_type": "markdown",
   "id": "3f63182f-6b56-43e4-a963-b28b49c0423d",
   "metadata": {
    "jp-MarkdownHeadingCollapsed": true,
    "tags": []
   },
   "source": [
    "# 1. Which page did user id \"\" (empty string) NOT visit?"
   ]
  },
  {
   "cell_type": "code",
   "execution_count": 4,
   "id": "24d133bd-8ce4-4551-9b04-1629452eb118",
   "metadata": {},
   "outputs": [
    {
     "name": "stderr",
     "output_type": "stream",
     "text": [
      "                                                                                \r"
     ]
    },
    {
     "name": "stdout",
     "output_type": "stream",
     "text": [
      "+-------+-----------------+----------+---------+------+------------------+--------+-----------------+-----+------------+------+-------+--------------------+------------------+--------+-----------------+-------------------+--------------------+------------------+\n",
      "|summary|           artist|      auth|firstName|gender|     itemInSession|lastName|           length|level|    location|method|   page|        registration|         sessionId|    song|           status|                 ts|           userAgent|            userId|\n",
      "+-------+-----------------+----------+---------+------+------------------+--------+-----------------+-----+------------+------+-------+--------------------+------------------+--------+-----------------+-------------------+--------------------+------------------+\n",
      "|  count|             8347|     10000|     9664|  9664|             10000|    9664|             8347|10000|        9664| 10000|  10000|                9664|             10000|    8347|            10000|              10000|                9664|             10000|\n",
      "|   mean|            461.0|      null|     null|  null|           19.6734|    null|249.6486587492506| null|        null|  null|   null|1.504695369588739...|         4436.7511|Infinity|         202.8984| 1.5137859954164E12|                null|1442.4413286423842|\n",
      "| stddev|            300.0|      null|     null|  null|25.382114916132608|    null|95.00437130781461| null|        null|  null|   null|  8.47314252131656E9|2043.1281541827561|     NaN|18.04179115450588|3.290828862357974E7|                null| 829.8909432082621|\n",
      "|    min|              !!!|     Guest|   Aakash|     F|                 0| Acevedo|          1.12281| free|Aberdeen, WA|   GET|  About|       1463503881284|                 9|      #1|              200|      1513720872284|\"Mozilla/5.0 (Mac...|                  |\n",
      "|    max|ÃÂlafur Arnalds|Logged Out|     Zoie|     M|               163|  Zuniga|        1806.8371| paid|    Yuma, AZ|   PUT|Upgrade|       1513760702284|              7144|wingless|              404|      1513848349284|Mozilla/5.0 (comp...|               999|\n",
      "+-------+-----------------+----------+---------+------+------------------+--------+-----------------+-----+------------+------+-------+--------------------+------------------+--------+-----------------+-------------------+--------------------+------------------+\n",
      "\n"
     ]
    }
   ],
   "source": [
    "user_log.describe().show()"
   ]
  },
  {
   "cell_type": "code",
   "execution_count": 5,
   "id": "0d45bb9a-4e69-4be5-bc88-49754db65e01",
   "metadata": {},
   "outputs": [
    {
     "name": "stdout",
     "output_type": "stream",
     "text": [
      "root\n",
      " |-- artist: string (nullable = true)\n",
      " |-- auth: string (nullable = true)\n",
      " |-- firstName: string (nullable = true)\n",
      " |-- gender: string (nullable = true)\n",
      " |-- itemInSession: long (nullable = true)\n",
      " |-- lastName: string (nullable = true)\n",
      " |-- length: double (nullable = true)\n",
      " |-- level: string (nullable = true)\n",
      " |-- location: string (nullable = true)\n",
      " |-- method: string (nullable = true)\n",
      " |-- page: string (nullable = true)\n",
      " |-- registration: long (nullable = true)\n",
      " |-- sessionId: long (nullable = true)\n",
      " |-- song: string (nullable = true)\n",
      " |-- status: long (nullable = true)\n",
      " |-- ts: long (nullable = true)\n",
      " |-- userAgent: string (nullable = true)\n",
      " |-- userId: string (nullable = true)\n",
      "\n"
     ]
    }
   ],
   "source": [
    "user_log.printSchema()"
   ]
  },
  {
   "cell_type": "code",
   "execution_count": 16,
   "id": "c31d7ede-ee75-41cb-aa1d-bac7303d7636",
   "metadata": {},
   "outputs": [],
   "source": [
    "# user_log.select(\"page\").dropDuplicates().sort(\"page\").show()\n",
    "page = user_log.select(\"page\").dropDuplicates().sort(\"page\")"
   ]
  },
  {
   "cell_type": "code",
   "execution_count": 17,
   "id": "5ef323ca-66e9-4516-9fa8-2acca30f67c8",
   "metadata": {},
   "outputs": [
    {
     "name": "stdout",
     "output_type": "stream",
     "text": [
      "+----------------+\n",
      "|            page|\n",
      "+----------------+\n",
      "|           About|\n",
      "|       Downgrade|\n",
      "|           Error|\n",
      "|            Help|\n",
      "|            Home|\n",
      "|           Login|\n",
      "|          Logout|\n",
      "|        NextSong|\n",
      "|   Save Settings|\n",
      "|        Settings|\n",
      "|Submit Downgrade|\n",
      "|  Submit Upgrade|\n",
      "|         Upgrade|\n",
      "+----------------+\n",
      "\n"
     ]
    }
   ],
   "source": [
    "page.show()"
   ]
  },
  {
   "cell_type": "code",
   "execution_count": 18,
   "id": "92bf471e-89e3-4863-9677-c434f836947e",
   "metadata": {},
   "outputs": [],
   "source": [
    "empty_string_user_page = user_log.select(\"page\").where(user_log.userId == \"\").dropDuplicates().sort(\"page\")"
   ]
  },
  {
   "cell_type": "code",
   "execution_count": 26,
   "id": "5a545575-2002-4b38-aac4-8184729b5ea9",
   "metadata": {},
   "outputs": [],
   "source": [
    "empty_string_user_page = empty_string_user_page.rdd.flatMap(lambda x: x).collect()"
   ]
  },
  {
   "cell_type": "markdown",
   "id": "342905c4-280d-47cf-a191-b7ce0014dba8",
   "metadata": {},
   "source": [
    "## Answer"
   ]
  },
  {
   "cell_type": "code",
   "execution_count": 34,
   "id": "6b29083a-aff1-463f-8c75-c3e2995335e3",
   "metadata": {},
   "outputs": [
    {
     "name": "stdout",
     "output_type": "stream",
     "text": [
      "+----------------+\n",
      "|            page|\n",
      "+----------------+\n",
      "|       Downgrade|\n",
      "|           Error|\n",
      "|          Logout|\n",
      "|        NextSong|\n",
      "|   Save Settings|\n",
      "|        Settings|\n",
      "|Submit Downgrade|\n",
      "|  Submit Upgrade|\n",
      "|         Upgrade|\n",
      "+----------------+\n",
      "\n"
     ]
    }
   ],
   "source": [
    "user_log.select(\"page\").where(~user_log.page.isin(empty_string_user_page)).dropDuplicates().sort(\"page\").show()"
   ]
  },
  {
   "cell_type": "markdown",
   "id": "c049f0dc-69d6-45bf-86f7-7cbeab85f6e2",
   "metadata": {
    "jp-MarkdownHeadingCollapsed": true,
    "tags": []
   },
   "source": [
    "# 2. How many female users do we have in the data set?"
   ]
  },
  {
   "cell_type": "code",
   "execution_count": 36,
   "id": "a057b758-3045-4361-81cf-9654ceae7216",
   "metadata": {},
   "outputs": [
    {
     "data": {
      "text/plain": [
       "462"
      ]
     },
     "execution_count": 36,
     "metadata": {},
     "output_type": "execute_result"
    }
   ],
   "source": [
    "user_log.select(\"UserId\").where(user_log.gender == \"F\").dropDuplicates().count()"
   ]
  },
  {
   "cell_type": "markdown",
   "id": "587137b5-d7f3-4e0c-951d-0c67c1c311c8",
   "metadata": {
    "jp-MarkdownHeadingCollapsed": true,
    "tags": []
   },
   "source": [
    "# 3. How many songs were played from the most played artist?"
   ]
  },
  {
   "cell_type": "code",
   "execution_count": 37,
   "id": "65f1f343-9fcd-4d0d-9c0e-3827696d8953",
   "metadata": {},
   "outputs": [
    {
     "name": "stdout",
     "output_type": "stream",
     "text": [
      "root\n",
      " |-- artist: string (nullable = true)\n",
      " |-- auth: string (nullable = true)\n",
      " |-- firstName: string (nullable = true)\n",
      " |-- gender: string (nullable = true)\n",
      " |-- itemInSession: long (nullable = true)\n",
      " |-- lastName: string (nullable = true)\n",
      " |-- length: double (nullable = true)\n",
      " |-- level: string (nullable = true)\n",
      " |-- location: string (nullable = true)\n",
      " |-- method: string (nullable = true)\n",
      " |-- page: string (nullable = true)\n",
      " |-- registration: long (nullable = true)\n",
      " |-- sessionId: long (nullable = true)\n",
      " |-- song: string (nullable = true)\n",
      " |-- status: long (nullable = true)\n",
      " |-- ts: long (nullable = true)\n",
      " |-- userAgent: string (nullable = true)\n",
      " |-- userId: string (nullable = true)\n",
      "\n"
     ]
    }
   ],
   "source": [
    "user_log.printSchema()"
   ]
  },
  {
   "cell_type": "code",
   "execution_count": 47,
   "id": "ab51b06a-902a-440f-bbae-bfeb097f57eb",
   "metadata": {},
   "outputs": [
    {
     "name": "stdout",
     "output_type": "stream",
     "text": [
      "+--------------------+-----+\n",
      "|              artist|count|\n",
      "+--------------------+-----+\n",
      "|                null| 1653|\n",
      "|            Coldplay|   83|\n",
      "|       Kings Of Leon|   69|\n",
      "|Florence + The Ma...|   52|\n",
      "|            BjÃÂ¶rk|   46|\n",
      "|       Dwight Yoakam|   45|\n",
      "|       Justin Bieber|   43|\n",
      "|      The Black Keys|   40|\n",
      "|         OneRepublic|   37|\n",
      "|        Jack Johnson|   36|\n",
      "|                Muse|   36|\n",
      "|           Radiohead|   31|\n",
      "|        Taylor Swift|   29|\n",
      "|Barry Tuckwell/Ac...|   28|\n",
      "|          Lily Allen|   28|\n",
      "|               Train|   28|\n",
      "|           Metallica|   27|\n",
      "|           Daft Punk|   27|\n",
      "|          Nickelback|   27|\n",
      "|          Kanye West|   26|\n",
      "+--------------------+-----+\n",
      "only showing top 20 rows\n",
      "\n"
     ]
    }
   ],
   "source": [
    "user_log.select(\"artist\").groupby(\"artist\").count().orderBy(\"count\", ascending=False).show()"
   ]
  },
  {
   "cell_type": "code",
   "execution_count": 42,
   "id": "17d48fde-2497-4e02-bb7c-d1e824d21385",
   "metadata": {},
   "outputs": [
    {
     "name": "stdout",
     "output_type": "stream",
     "text": [
      "+--------------------+--------------------+-----+\n",
      "|              artist|                song|count|\n",
      "+--------------------+--------------------+-----+\n",
      "|                null|                null| 1653|\n",
      "|       Dwight Yoakam|      You're The One|   45|\n",
      "|            BjÃÂ¶rk|                Undo|   44|\n",
      "|Barry Tuckwell/Ac...|Horn Concerto No....|   28|\n",
      "|         OneRepublic|             Secrets|   25|\n",
      "|Florence + The Ma...|Dog Days Are Over...|   23|\n",
      "|       Kings Of Leon|             Revelry|   22|\n",
      "|            Harmonia|       Sehr kosmisch|   22|\n",
      "|            Coldplay|              Yellow|   21|\n",
      "|       Kings Of Leon|        Use Somebody|   19|\n",
      "|    Five Iron Frenzy|              Canada|   17|\n",
      "|            Tub Ring|             Invalid|   16|\n",
      "|           Sam Cooke|    Ain't Misbehavin|   16|\n",
      "|  Charttraxx Karaoke|           Fireflies|   13|\n",
      "|        Travie McCoy|Billionaire [feat...|   13|\n",
      "|       Justin Bieber|    Somebody To Love|   13|\n",
      "| Angels and Airwaves|            The Gift|   12|\n",
      "|            Coldplay|              Clocks|   12|\n",
      "|        Taylor Swift|          Love Story|   11|\n",
      "|     Alliance Ethnik|       ReprÃÂ©sente|   11|\n",
      "+--------------------+--------------------+-----+\n",
      "only showing top 20 rows\n",
      "\n"
     ]
    }
   ],
   "source": [
    "user_log.select([\"song\"]).where(\".groupby([\"artist\", \"song\"]).count().orderBy(\"count\", ascending=False).show()"
   ]
  },
  {
   "cell_type": "markdown",
   "id": "9f52f83d-d2b1-40a5-aeb8-3afe0d44c6ce",
   "metadata": {},
   "source": [
    "# 4. How many songs do users listen to on average between visiting our home page? Please round your answer to the closest integer."
   ]
  },
  {
   "cell_type": "code",
   "execution_count": 4,
   "id": "858ba236-1106-45e5-83e3-dce63e24d5b8",
   "metadata": {},
   "outputs": [
    {
     "name": "stdout",
     "output_type": "stream",
     "text": [
      "root\n",
      " |-- artist: string (nullable = true)\n",
      " |-- auth: string (nullable = true)\n",
      " |-- firstName: string (nullable = true)\n",
      " |-- gender: string (nullable = true)\n",
      " |-- itemInSession: long (nullable = true)\n",
      " |-- lastName: string (nullable = true)\n",
      " |-- length: double (nullable = true)\n",
      " |-- level: string (nullable = true)\n",
      " |-- location: string (nullable = true)\n",
      " |-- method: string (nullable = true)\n",
      " |-- page: string (nullable = true)\n",
      " |-- registration: long (nullable = true)\n",
      " |-- sessionId: long (nullable = true)\n",
      " |-- song: string (nullable = true)\n",
      " |-- status: long (nullable = true)\n",
      " |-- ts: long (nullable = true)\n",
      " |-- userAgent: string (nullable = true)\n",
      " |-- userId: string (nullable = true)\n",
      "\n"
     ]
    }
   ],
   "source": [
    "user_log.printSchema()"
   ]
  },
  {
   "cell_type": "code",
   "execution_count": 6,
   "id": "3b80765e-5699-4f7f-8e67-d2062893c42b",
   "metadata": {},
   "outputs": [
    {
     "name": "stderr",
     "output_type": "stream",
     "text": [
      "                                                                                \r"
     ]
    },
    {
     "data": {
      "text/plain": [
       "[Row(song='Christmas Tears Will Fall', length=232.93342),\n",
       " Row(song='Cheryl Tweedy', length=195.23873),\n",
       " Row(song='Good Girls Go Bad (Feat.Leighton Meester) (Album Version)', length=196.20526),\n",
       " Row(song=\"Don't See The Point\", length=405.99465),\n",
       " Row(song=None, length=None),\n",
       " Row(song=None, length=None),\n",
       " Row(song='Smoke Buddah', length=154.53995),\n",
       " Row(song='On My Own', length=402.93832),\n",
       " Row(song=None, length=None),\n",
       " Row(song=None, length=None),\n",
       " Row(song=\"Heart Of The City (Ain't No Love)\", length=223.26812),\n",
       " Row(song='Bring Me To Life', length=237.11302),\n",
       " Row(song='Laura', length=218.01751),\n",
       " Row(song='Here Without You', length=237.13914),\n",
       " Row(song='This Old House w/ When The Saints Medley', length=191.68608),\n",
       " Row(song='Follow Me (Club Mix)', length=383.58159),\n",
       " Row(song=None, length=None),\n",
       " Row(song='Undo', length=348.57751),\n",
       " Row(song='Sheebeg And Sheemore', length=146.36363),\n",
       " Row(song='Far Away (Album Version)', length=238.18404)]"
      ]
     },
     "execution_count": 6,
     "metadata": {},
     "output_type": "execute_result"
    }
   ],
   "source": [
    "user_log.select([\"song\", \"length\"]).take(20)"
   ]
  },
  {
   "cell_type": "code",
   "execution_count": 10,
   "id": "64dd0ceb-7306-4581-b035-75363dd3abb8",
   "metadata": {},
   "outputs": [
    {
     "name": "stdout",
     "output_type": "stream",
     "text": [
      "0.0\n",
      "0\n",
      "1126\n"
     ]
    }
   ],
   "source": [
    "home_page_listen = user_log.select(\"page\").where((user_log.page == \"Home\") & (user_log.length != None)).count()\n",
    "all_home_page = user_log.select(\"page\").where(user_log.page == \"Home\").count()\n"
   ]
  },
  {
   "cell_type": "code",
   "execution_count": null,
   "id": "3e313805-ca87-4ad9-a243-cea984b2ff12",
   "metadata": {},
   "outputs": [],
   "source": [
    "sum_ = user_log.select(\"length\").where(\"page\" == \"Home\").filter(user_log.length.isNotNull()).sum()\n",
    "count = user_log.select(\"length\").where(\"page\" == \"Home\").filter(user_log.length.isNotNull()).count()"
   ]
  },
  {
   "cell_type": "code",
   "execution_count": null,
   "id": "d94fef97-043b-47cc-8805-d9e0297e5df1",
   "metadata": {},
   "outputs": [],
   "source": []
  }
 ],
 "metadata": {
  "kernelspec": {
   "display_name": "Python 3 (ipykernel)",
   "language": "python",
   "name": "python3"
  },
  "language_info": {
   "codemirror_mode": {
    "name": "ipython",
    "version": 3
   },
   "file_extension": ".py",
   "mimetype": "text/x-python",
   "name": "python",
   "nbconvert_exporter": "python",
   "pygments_lexer": "ipython3",
   "version": "3.9.12"
  }
 },
 "nbformat": 4,
 "nbformat_minor": 5
}
